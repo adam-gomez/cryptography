{
 "cells": [
  {
   "cell_type": "markdown",
   "id": "4cb74529",
   "metadata": {},
   "source": [
    "# Finite Field Definition\n",
    "\n",
    "Mathematically, a *finite field* is defined as a finite set of numbers and two operations + (addition) and *•* (multiplication) that satisfy the following:\n",
    "\n",
    "1. If *a* and *b* are in the set, *a + b* and *a • b* are in the set. We call this property *closed*.\n",
    "2. 0 exists and has the property *a + 0 = a*. We call this the *additive identity*.\n",
    "3. 1 exists and has the property *a • 1 = a*. We call this the *multiplicative identity*.\n",
    "4. If *a* is in the set, *-a* is in the set, which is defined as the value that makes *a + (-a) = 0*. This is what we call the *additive inverse*.\n",
    "5. If *a* is in the set and is not 0, *a<sup>-1</sup>* is in the set, which is defined as the value that makes *a • a<sup>-1</sup> = 1*. This is what we call the *multiplicative inverse*."
   ]
  },
  {
   "cell_type": "code",
   "execution_count": null,
   "id": "a153487c",
   "metadata": {},
   "outputs": [],
   "source": []
  }
 ],
 "metadata": {
  "kernelspec": {
   "display_name": "Python 3",
   "language": "python",
   "name": "python3"
  },
  "language_info": {
   "codemirror_mode": {
    "name": "ipython",
    "version": 3
   },
   "file_extension": ".py",
   "mimetype": "text/x-python",
   "name": "python",
   "nbconvert_exporter": "python",
   "pygments_lexer": "ipython3",
   "version": "3.8.8"
  }
 },
 "nbformat": 4,
 "nbformat_minor": 5
}
