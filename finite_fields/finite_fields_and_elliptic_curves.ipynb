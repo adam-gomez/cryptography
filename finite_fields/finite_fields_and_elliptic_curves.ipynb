{
 "cells": [
  {
   "cell_type": "markdown",
   "id": "4cb74529",
   "metadata": {},
   "source": [
    "# Finite Field Definition\n",
    "\n",
    "Mathematically, a *finite field* is defined as a finite set of numbers and two operations + (addition) and *•* (multiplication) that satisfy the following:\n",
    "\n",
    "1. If *a* and *b* are in the set, *a + b* and *a • b* are in the set. We call this property *closed*.\n",
    "    - Consider a set containing {0,1,2}\n",
    "    - This set would not be *closed*, because 1 + 2 = 3 and 3 is not in the set\n",
    "    - {-1, 0, 1} is *closed* under multiplication (but not addition)\n",
    "    - We can alter the definition of multiplication or addition in another way to make these sets closed\n",
    "    \n",
    "    \n",
    "2. 0 exists and has the property *a + 0 = a*. We call this the *additive identity*.\n",
    "3. 1 exists and has the property *a • 1 = a*. We call this the *multiplicative identity*.\n",
    "    - These put some limits on how addition and multiplication can be defined\n",
    "    - These also require 0 and 1 to be in the set\n",
    "    \n",
    "    \n",
    "4. If *a* is in the set, *-a* is in the set, which is defined as the value that makes *a + (-a) = 0*. This is what we call the *additive inverse*.\n",
    "    - This allows us to define subtraction\n",
    "    \n",
    "    \n",
    "5. If *a* is in the set and is not 0, *a<sup>-1</sup>* is in the set, which is defined as the value that makes *a • a<sup>-1</sup> = 1*. This is what we call the *multiplicative inverse*.\n",
    "    - This allows us to define division\n",
    "    \n",
    "    \n",
    "Because the set is finite, we have a number *p*, which is how big the set it. This is the *order* of the set.\n",
    "\n",
    "Finite field set:\n",
    "$F_p$ = {0, 1, 2, ... p-1}\n",
    "\n",
    "Thus:\n",
    "\n",
    "$F_{11}$ = {0, 1, 2, 3, 4, 5, 6, 7, 8, 9, 10}\n",
    "\n",
    "$F_{17}$ = {0, 1, 2, 3, 4, 5, 6, 7, 8, 9, 10, 11, 12, 13, 14, 15, 16}\n",
    "\n",
    "$F_{983}$ = {0, 1, 2, ... 982}\n",
    "\n",
    "Notice that the fields represented above have a prime number order. Cryptographic finite fields must have a prime order. "
   ]
  },
  {
   "cell_type": "code",
   "execution_count": 1,
   "id": "e67a7fda",
   "metadata": {},
   "outputs": [],
   "source": [
    "from math import floor"
   ]
  },
  {
   "cell_type": "code",
   "execution_count": 2,
   "id": "a153487c",
   "metadata": {},
   "outputs": [],
   "source": [
    "class FieldElement:\n",
    "    def __init__(self, num, prime):\n",
    "        # Check that num is between 0 and prime -1 (inclusive)\n",
    "        if num >= prime or num < 0:\n",
    "            error = 'Num {} not in field range 0 to {}'.format(num, prime -1)\n",
    "            raise ValueError(error)\n",
    "        # Assign initialization values to the object    \n",
    "        self.num = num\n",
    "        self.prime = prime\n",
    "    \n",
    "    def __repr__(self):\n",
    "        return 'FieldElement_{}({})'.format(self.prime, self.num)\n",
    "    \n",
    "    def __eq__(self, other):\n",
    "        if other is None:\n",
    "            return False\n",
    "        # Both num and prime properties must be equal to establish equivalence\n",
    "        return self.num == other.num and self.prime == other.prime"
   ]
  },
  {
   "cell_type": "code",
   "execution_count": 3,
   "id": "d08d29f9",
   "metadata": {},
   "outputs": [],
   "source": [
    "a = FieldElement(7, 13)\n",
    "b = FieldElement(6, 13)"
   ]
  },
  {
   "cell_type": "code",
   "execution_count": 4,
   "id": "8e8f53dd",
   "metadata": {},
   "outputs": [
    {
     "name": "stdout",
     "output_type": "stream",
     "text": [
      "False\n"
     ]
    }
   ],
   "source": [
    "print(a == b)"
   ]
  },
  {
   "cell_type": "code",
   "execution_count": 5,
   "id": "332cd6b6",
   "metadata": {},
   "outputs": [
    {
     "name": "stdout",
     "output_type": "stream",
     "text": [
      "True\n"
     ]
    }
   ],
   "source": [
    "print(a == a)"
   ]
  },
  {
   "cell_type": "markdown",
   "id": "197f929d",
   "metadata": {},
   "source": [
    "Let's add a method `__ne__` which checks if two FieldElement objects *not* equal to each other"
   ]
  },
  {
   "cell_type": "code",
   "execution_count": 6,
   "id": "f6653eeb",
   "metadata": {},
   "outputs": [],
   "source": [
    "class FieldElement:\n",
    "    def __init__(self, num, prime):\n",
    "        # Check that num is between 0 and prime -1 (inclusive)\n",
    "        if num >= prime or num < 0:\n",
    "            error = 'Num {} not in field range 0 to {}'.format(num, prime -1)\n",
    "            raise ValueError(error)\n",
    "        # Assign initialization values to the object    \n",
    "        self.num = num\n",
    "        self.prime = prime\n",
    "    \n",
    "    def __repr__(self):\n",
    "        return 'FieldElement_{}({})'.format(self.prime, self.num)\n",
    "    \n",
    "    def __eq__(self, other):\n",
    "        if other is None:\n",
    "            return False\n",
    "        # Both num and prime properties must be equal to establish equivalence\n",
    "        return self.num == other.num and self.prime == other.prime\n",
    "    \n",
    "    def __ne__(self, other):\n",
    "        if other is None:\n",
    "            return False\n",
    "        return not (self == other)"
   ]
  },
  {
   "cell_type": "code",
   "execution_count": 7,
   "id": "943f7f56",
   "metadata": {},
   "outputs": [
    {
     "data": {
      "text/plain": [
       "True"
      ]
     },
     "execution_count": 7,
     "metadata": {},
     "output_type": "execute_result"
    }
   ],
   "source": [
    "a.__ne__(b)"
   ]
  },
  {
   "cell_type": "markdown",
   "id": "201134c2",
   "metadata": {},
   "source": [
    "## Modulo Arithmetic\n",
    "\n",
    "One way to make a finite field closed under addition, subtraction, multiplcation, and division is to use *modulo arithmetic*"
   ]
  },
  {
   "cell_type": "code",
   "execution_count": 8,
   "id": "a4181fba",
   "metadata": {},
   "outputs": [
    {
     "data": {
      "text/plain": [
       "60"
      ]
     },
     "execution_count": 8,
     "metadata": {},
     "output_type": "execute_result"
    }
   ],
   "source": [
    "1747 % 241"
   ]
  },
  {
   "cell_type": "markdown",
   "id": "246d8c0c",
   "metadata": {},
   "source": [
    "Formally speaking, the modulo operation is the remainder after division of one number by another.\n",
    "\n",
    "**It's currently 3 o'clock. What hour will it be 47 hours from now?**"
   ]
  },
  {
   "cell_type": "code",
   "execution_count": 9,
   "id": "d11278a0",
   "metadata": {},
   "outputs": [
    {
     "data": {
      "text/plain": [
       "2"
      ]
     },
     "execution_count": 9,
     "metadata": {},
     "output_type": "execute_result"
    }
   ],
   "source": [
    "(3 + 47) % 12"
   ]
  },
  {
   "cell_type": "markdown",
   "id": "19dc96fa",
   "metadata": {},
   "source": [
    "Consider that we can break the question above into steps.\n",
    "\n",
    "It's currently 3 o'clock. What hour will it be 12 hours from now? How many hours will have passed?\n",
    "\n",
    "    A: 3 o'clock, 12 hours\n",
    "\n",
    "And 12 hours after that?\n",
    "\n",
    "    A: 3 o'clock, 24 hours\n",
    "\n",
    "And 12 hours after that?\n",
    "\n",
    "    A: 3 o'clock, 36 hours\n",
    "\n",
    "And 11 hours after that?\n",
    "\n",
    "    A: 2 o'clock, 47 hours\n",
    "    \n",
    "Thus, we can think of modulo arithmetic as a kind of \"wraparound\" or \"clock\" math.\n",
    "\n",
    "We can perform modulo on negative numners. For example:\n",
    "\n",
    "**It is currently 3 o'clock. What hour was it 16 hours ago?**"
   ]
  },
  {
   "cell_type": "code",
   "execution_count": 10,
   "id": "70b64b11",
   "metadata": {},
   "outputs": [
    {
     "data": {
      "text/plain": [
       "11"
      ]
     },
     "execution_count": 10,
     "metadata": {},
     "output_type": "execute_result"
    }
   ],
   "source": [
    "(3 - 16) % 12"
   ]
  },
  {
   "cell_type": "markdown",
   "id": "57ddd078",
   "metadata": {},
   "source": [
    "**It is currently 12 minutes past the hour. What minute wil it be 843 minutes from now?**"
   ]
  },
  {
   "cell_type": "code",
   "execution_count": 11,
   "id": "365316ea",
   "metadata": {},
   "outputs": [
    {
     "data": {
      "text/plain": [
       "15"
      ]
     },
     "execution_count": 11,
     "metadata": {},
     "output_type": "execute_result"
    }
   ],
   "source": [
    "(12 + 843) % 60"
   ]
  },
  {
   "cell_type": "markdown",
   "id": "64e4e46f",
   "metadata": {},
   "source": [
    "**It is currently 23 minutes past the hour. What minute will it be 97 minutes from now?**"
   ]
  },
  {
   "cell_type": "code",
   "execution_count": 12,
   "id": "fe58761d",
   "metadata": {},
   "outputs": [
    {
     "data": {
      "text/plain": [
       "0"
      ]
     },
     "execution_count": 12,
     "metadata": {},
     "output_type": "execute_result"
    }
   ],
   "source": [
    "(23 + 97) % 60"
   ]
  },
  {
   "cell_type": "markdown",
   "id": "448687a5",
   "metadata": {},
   "source": [
    "The result of the moduleo operation for mnutes is always between 0 and 59. This is a useful property, as even very large numbers can be brought down to a relatively small range."
   ]
  },
  {
   "cell_type": "code",
   "execution_count": 13,
   "id": "37e650b3",
   "metadata": {},
   "outputs": [
    {
     "data": {
      "text/plain": [
       "54"
      ]
     },
     "execution_count": 13,
     "metadata": {},
     "output_type": "execute_result"
    }
   ],
   "source": [
    "1441829712894 % 60"
   ]
  },
  {
   "cell_type": "code",
   "execution_count": 14,
   "id": "ae867f01",
   "metadata": {},
   "outputs": [
    {
     "data": {
      "text/plain": [
       "1"
      ]
     },
     "execution_count": 14,
     "metadata": {},
     "output_type": "execute_result"
    }
   ],
   "source": [
    "7 % 3"
   ]
  },
  {
   "cell_type": "markdown",
   "id": "3f81a583",
   "metadata": {},
   "source": [
    "Simple enough. But things get a little tricky when you throw negative numbers into the mix:"
   ]
  },
  {
   "cell_type": "code",
   "execution_count": 15,
   "id": "ee5bf9bc",
   "metadata": {},
   "outputs": [
    {
     "data": {
      "text/plain": [
       "12"
      ]
     },
     "execution_count": 15,
     "metadata": {},
     "output_type": "execute_result"
    }
   ],
   "source": [
    "-27 % 13"
   ]
  },
  {
   "cell_type": "code",
   "execution_count": 16,
   "id": "9eb8c97f",
   "metadata": {},
   "outputs": [],
   "source": [
    "def modulo_explained(a, b):\n",
    "    print('Identities:')\n",
    "    print(f'a: {a}')\n",
    "    print(f'b: {b}', '\\n')\n",
    "    print('Normal Division:')\n",
    "    print(f'a / b: {a/b}', '\\n')\n",
    "    print('Modulo = a - b * floor(a/b):')\n",
    "    print(f'floor(a/b): {floor(a/b)}')\n",
    "    print(f'b * floor(a/b): {b * (floor(a/b))}')\n",
    "    print(f'a - b * floor(a/b): {a - b * floor (a / b)}', '\\n')\n",
    "    print(f'a % b = {a - b * floor (a / b)}')"
   ]
  },
  {
   "cell_type": "code",
   "execution_count": 17,
   "id": "92e9ff66",
   "metadata": {},
   "outputs": [
    {
     "name": "stdout",
     "output_type": "stream",
     "text": [
      "Identities:\n",
      "a: -27\n",
      "b: 13 \n",
      "\n",
      "Normal Division:\n",
      "a / b: -2.076923076923077 \n",
      "\n",
      "Modulo = a - b * floor(a/b):\n",
      "floor(a/b): -3\n",
      "b * floor(a/b): -39\n",
      "a - b * floor(a/b): 12 \n",
      "\n",
      "a % b = 12\n"
     ]
    }
   ],
   "source": [
    "modulo_explained(-27, 13)"
   ]
  },
  {
   "cell_type": "markdown",
   "id": "dc9c984a",
   "metadata": {},
   "source": [
    "## Finite Field Addition and Substraction\n",
    "\n",
    "We can use modulo arithmetic to make addition closed in our finite field. Let's say we have a finite field of 19:\n",
    "\n",
    "$F_{19}$ = {0, 1, 2 ... 18}\n",
    "\n",
    "Where *a*, *b* ∈ $F_{19}$ (∈ means \"elements of\")\n",
    "\n",
    "Then addition being closed we can say:\n",
    "\n",
    "*a* $+_f$ *b* ∈ $F_{19}$\n",
    "\n",
    "Addition is denoted by $_f$ to avoid confusion with normal integer addition. By utilizing modulo arithmetic we can guarantee closure.\n",
    "\n",
    "*a* $+_f$ *b* = (*a* + *b*) % 19\n",
    "\n",
    "For example:"
   ]
  },
  {
   "cell_type": "code",
   "execution_count": 18,
   "id": "cef9e59a",
   "metadata": {},
   "outputs": [
    {
     "data": {
      "text/plain": [
       "15"
      ]
     },
     "execution_count": 18,
     "metadata": {},
     "output_type": "execute_result"
    }
   ],
   "source": [
    "# 7 +f 8 (derived from F19)\n",
    "(7 + 8) % 19"
   ]
  },
  {
   "cell_type": "code",
   "execution_count": 19,
   "id": "273846cd",
   "metadata": {},
   "outputs": [
    {
     "data": {
      "text/plain": [
       "9"
      ]
     },
     "execution_count": 19,
     "metadata": {},
     "output_type": "execute_result"
    }
   ],
   "source": [
    "# 11 + 17 (deroved from F19)\n",
    "(11 + 17) % 19"
   ]
  },
  {
   "cell_type": "markdown",
   "id": "e7ab466f",
   "metadata": {},
   "source": [
    "In every possible case, modulo arithmetic will result in a value within the set.\n",
    "\n",
    "We can also define the additive inverse this way. *a* ∈ $F_p$ implies that $-_f$*a* ∈ $F_p$. We denote - with $_f$ to again distinguish it from normal subtraction.\n",
    "\n",
    "$-_f$*a* = (-a) % *p*\n",
    "\n",
    "Thus in $F_{19}$:\n",
    "\n",
    "$-_f$9 = (-9) % 19 = 10"
   ]
  },
  {
   "cell_type": "code",
   "execution_count": 20,
   "id": "c48f6b07",
   "metadata": {},
   "outputs": [
    {
     "data": {
      "text/plain": [
       "10"
      ]
     },
     "execution_count": 20,
     "metadata": {},
     "output_type": "execute_result"
    }
   ],
   "source": [
    "-9 % 19"
   ]
  },
  {
   "cell_type": "markdown",
   "id": "bc70c6fa",
   "metadata": {},
   "source": [
    "which means that:\n",
    "\n",
    "9 $+_f$10 = 0"
   ]
  },
  {
   "cell_type": "code",
   "execution_count": 21,
   "id": "4e610fd6",
   "metadata": {},
   "outputs": [
    {
     "data": {
      "text/plain": [
       "0"
      ]
     },
     "execution_count": 21,
     "metadata": {},
     "output_type": "execute_result"
    }
   ],
   "source": [
    "(9 + 10) % 19"
   ]
  },
  {
   "cell_type": "markdown",
   "id": "194c0390",
   "metadata": {},
   "source": [
    "Therefore, we can define field subtraction:\n",
    "\n",
    "*a*$-_f$*b* = (*a* - *b*) % p\n",
    "\n",
    "where *a*, *b* ∈ $F_p$"
   ]
  },
  {
   "cell_type": "code",
   "execution_count": 22,
   "id": "125d7b4c",
   "metadata": {},
   "outputs": [
    {
     "data": {
      "text/plain": [
       "2"
      ]
     },
     "execution_count": 22,
     "metadata": {},
     "output_type": "execute_result"
    }
   ],
   "source": [
    "# 11 -f 9\n",
    "(11 - 9) % 19"
   ]
  },
  {
   "cell_type": "code",
   "execution_count": 23,
   "id": "c70addef",
   "metadata": {},
   "outputs": [
    {
     "data": {
      "text/plain": [
       "12"
      ]
     },
     "execution_count": 23,
     "metadata": {},
     "output_type": "execute_result"
    }
   ],
   "source": [
    "# 6 -f 13 \n",
    "(6 - 13) % 19"
   ]
  },
  {
   "cell_type": "code",
   "execution_count": 24,
   "id": "e33b54cf",
   "metadata": {},
   "outputs": [
    {
     "data": {
      "text/plain": [
       "0"
      ]
     },
     "execution_count": 24,
     "metadata": {},
     "output_type": "execute_result"
    }
   ],
   "source": [
    "# 9 -f 9\n",
    "(9 - 9) % 19"
   ]
  },
  {
   "cell_type": "markdown",
   "id": "402b67f7",
   "metadata": {},
   "source": [
    "In $F_{57}$"
   ]
  },
  {
   "cell_type": "code",
   "execution_count": 25,
   "id": "22787122",
   "metadata": {},
   "outputs": [
    {
     "data": {
      "text/plain": [
       "20"
      ]
     },
     "execution_count": 25,
     "metadata": {},
     "output_type": "execute_result"
    }
   ],
   "source": [
    "# 44 +f 33\n",
    "(44 + 33) % 57"
   ]
  },
  {
   "cell_type": "code",
   "execution_count": 26,
   "id": "fde91fb3",
   "metadata": {},
   "outputs": [
    {
     "data": {
      "text/plain": [
       "37"
      ]
     },
     "execution_count": 26,
     "metadata": {},
     "output_type": "execute_result"
    }
   ],
   "source": [
    "# 9 -f 29\n",
    "(9 - 29) % 57"
   ]
  },
  {
   "cell_type": "code",
   "execution_count": 27,
   "id": "b4464c2e",
   "metadata": {},
   "outputs": [
    {
     "data": {
      "text/plain": [
       "51"
      ]
     },
     "execution_count": 27,
     "metadata": {},
     "output_type": "execute_result"
    }
   ],
   "source": [
    "# 17 +f 42 +f 49\n",
    "(((17 + 42) % 57) + 49) % 57"
   ]
  },
  {
   "cell_type": "code",
   "execution_count": 39,
   "id": "466ed6dd",
   "metadata": {},
   "outputs": [
    {
     "data": {
      "text/plain": [
       "51"
      ]
     },
     "execution_count": 39,
     "metadata": {},
     "output_type": "execute_result"
    }
   ],
   "source": [
    "(17 + 42 + 49) % 57"
   ]
  },
  {
   "cell_type": "code",
   "execution_count": 28,
   "id": "bfe224f1",
   "metadata": {},
   "outputs": [
    {
     "data": {
      "text/plain": [
       "41"
      ]
     },
     "execution_count": 28,
     "metadata": {},
     "output_type": "execute_result"
    }
   ],
   "source": [
    "# 52 -f 30 -f 38\n",
    "(((52 - 30) % 57) - 38) % 57"
   ]
  },
  {
   "cell_type": "code",
   "execution_count": 40,
   "id": "766d32fa",
   "metadata": {},
   "outputs": [
    {
     "data": {
      "text/plain": [
       "41"
      ]
     },
     "execution_count": 40,
     "metadata": {},
     "output_type": "execute_result"
    }
   ],
   "source": [
    "(52 - 30 - 38) % 57"
   ]
  },
  {
   "cell_type": "markdown",
   "id": "4d64b2ca",
   "metadata": {},
   "source": [
    "## Adding Modulo Addition/Subtraction to our FieldElement Class"
   ]
  },
  {
   "cell_type": "code",
   "execution_count": 32,
   "id": "854fd32e",
   "metadata": {},
   "outputs": [],
   "source": [
    "class FieldElement:\n",
    "    def __init__(self, num, prime):\n",
    "        # Check that num is between 0 and prime -1 (inclusive)\n",
    "        if num >= prime or num < 0:\n",
    "            error = 'Num {} not in field range 0 to {}'.format(num, prime -1)\n",
    "            raise ValueError(error)\n",
    "        # Assign initialization values to the object    \n",
    "        self.num = num\n",
    "        self.prime = prime\n",
    "    \n",
    "    def __repr__(self):\n",
    "        return 'FieldElement_{}({})'.format(self.prime, self.num)\n",
    "    \n",
    "    def __eq__(self, other):\n",
    "        if other is None:\n",
    "            return False\n",
    "        # Both num and prime properties must be equal to establish equivalence\n",
    "        return self.num == other.num and self.prime == other.prime\n",
    "    \n",
    "    def __ne__(self, other):\n",
    "        if other is None:\n",
    "            return False\n",
    "        return not (self == other)\n",
    "    \n",
    "    def __add__(self, other):\n",
    "        # Ensure the elements are from the same field\n",
    "        if self.prime != other.prime:\n",
    "            raise TypeError('Cannot add two numbers in different fields')\n",
    "        # modulo addition\n",
    "        num = (self.num + other.num) % self.prime\n",
    "        # We return an instance of the class by passing the two initializing arguments num and self.prime\n",
    "        return self.__class__(num, self.prime)\n",
    "    \n",
    "    def __sub__(self, other):\n",
    "        # Ensure the elements are from the same field\n",
    "        if self.prime != other.prime:\n",
    "            raise TypeError('Cannot add two numbers in different fields')\n",
    "        # modulo subtraction\n",
    "        num = (self.num - other.num) % self.prime\n",
    "        # We return an instance of the class by passing the two initializing arguments num and self.prime\n",
    "        return self.__class__(num, self.prime)        "
   ]
  },
  {
   "cell_type": "code",
   "execution_count": 36,
   "id": "a64780b1",
   "metadata": {},
   "outputs": [
    {
     "name": "stdout",
     "output_type": "stream",
     "text": [
      "FieldElement_13(3)\n"
     ]
    }
   ],
   "source": [
    "# Confirm that our method works as intended\n",
    "a = FieldElement(7, 13)\n",
    "b = FieldElement(4, 13)\n",
    "print(a.__sub__(b))"
   ]
  },
  {
   "cell_type": "code",
   "execution_count": 37,
   "id": "8bdb904c",
   "metadata": {},
   "outputs": [
    {
     "data": {
      "text/plain": [
       "__main__.FieldElement"
      ]
     },
     "execution_count": 37,
     "metadata": {},
     "output_type": "execute_result"
    }
   ],
   "source": [
    "type(a.__sub__(b))"
   ]
  },
  {
   "cell_type": "code",
   "execution_count": 38,
   "id": "a91b4c62",
   "metadata": {},
   "outputs": [
    {
     "data": {
      "text/plain": [
       "3"
      ]
     },
     "execution_count": 38,
     "metadata": {},
     "output_type": "execute_result"
    }
   ],
   "source": [
    "(7 - 4) % 13"
   ]
  },
  {
   "cell_type": "markdown",
   "id": "060c6c80",
   "metadata": {},
   "source": [
    "## Finite Field Multiplication and Exponentiation\n",
    "\n",
    "Multiplication is adding multiple times\n",
    "\n",
    "5 • 3 = 5 + 5 + 5 + 5 + 5 = 15\n",
    "\n",
    "We can define multiplication on a finite field the same way:\n",
    "\n",
    "5 $•_f$ 3 = 5 $+_f$ 5 $+_f$ 5"
   ]
  },
  {
   "cell_type": "code",
   "execution_count": 41,
   "id": "1b899b34",
   "metadata": {},
   "outputs": [
    {
     "data": {
      "text/plain": [
       "15"
      ]
     },
     "execution_count": 41,
     "metadata": {},
     "output_type": "execute_result"
    }
   ],
   "source": [
    "# 5 *f 3\n",
    "(5 + 5 + 5) % 19"
   ]
  },
  {
   "cell_type": "markdown",
   "id": "42aff7e3",
   "metadata": {},
   "source": [
    "Exponentiation is just multiplying a number many times:\n",
    "\n",
    "$7^3$ = 7 $•_f$ 7 $•_f$ 7 = 1"
   ]
  },
  {
   "cell_type": "code",
   "execution_count": 42,
   "id": "98943bda",
   "metadata": {},
   "outputs": [
    {
     "data": {
      "text/plain": [
       "1"
      ]
     },
     "execution_count": 42,
     "metadata": {},
     "output_type": "execute_result"
    }
   ],
   "source": [
    "(7 * 7 * 7) % 19"
   ]
  },
  {
   "cell_type": "markdown",
   "id": "903ce57c",
   "metadata": {},
   "source": [
    "In $F_{97}$"
   ]
  },
  {
   "cell_type": "code",
   "execution_count": 48,
   "id": "485efcab",
   "metadata": {},
   "outputs": [
    {
     "data": {
      "text/plain": [
       "23"
      ]
     },
     "execution_count": 48,
     "metadata": {},
     "output_type": "execute_result"
    }
   ],
   "source": [
    "(95 * 45 * 31) % 97"
   ]
  },
  {
   "cell_type": "code",
   "execution_count": 49,
   "id": "ee6c8168",
   "metadata": {},
   "outputs": [
    {
     "data": {
      "text/plain": [
       "68"
      ]
     },
     "execution_count": 49,
     "metadata": {},
     "output_type": "execute_result"
    }
   ],
   "source": [
    "(17 * 13 * 19 * 44) % 97"
   ]
  },
  {
   "cell_type": "code",
   "execution_count": 47,
   "id": "6f32c93b",
   "metadata": {},
   "outputs": [
    {
     "data": {
      "text/plain": [
       "63"
      ]
     },
     "execution_count": 47,
     "metadata": {},
     "output_type": "execute_result"
    }
   ],
   "source": [
    "# 12^7 * 77^49\n",
    "(((12 ** 7) % 97) * ((77 **49) % 97)) % 97"
   ]
  },
  {
   "cell_type": "markdown",
   "id": "9ebb494f",
   "metadata": {},
   "source": [
    "For *k* = 1, 3, 7, 13, 18 what is this set in $F_{19}$?\n",
    "\n",
    "Where {k • 0, k • 1 ... k • 18}"
   ]
  },
  {
   "cell_type": "code",
   "execution_count": 62,
   "id": "1c0bd841",
   "metadata": {},
   "outputs": [
    {
     "name": "stdout",
     "output_type": "stream",
     "text": [
      "[0, 1, 2, 3, 4, 5, 6, 7, 8, 9, 10, 11, 12, 13, 14, 15, 16, 17, 18]\n",
      "[0, 3, 6, 9, 12, 15, 18, 2, 5, 8, 11, 14, 17, 1, 4, 7, 10, 13, 16]\n",
      "[0, 7, 14, 2, 9, 16, 4, 11, 18, 6, 13, 1, 8, 15, 3, 10, 17, 5, 12]\n",
      "[0, 13, 7, 1, 14, 8, 2, 15, 9, 3, 16, 10, 4, 17, 11, 5, 18, 12, 6]\n",
      "[0, 18, 17, 16, 15, 14, 13, 12, 11, 10, 9, 8, 7, 6, 5, 4, 3, 2, 1]\n"
     ]
    }
   ],
   "source": [
    "prime = 19\n",
    "for k in (1, 3, 7, 13, 18):\n",
    "    print([k*i%prime for i in range(prime)])"
   ]
  },
  {
   "cell_type": "code",
   "execution_count": 63,
   "id": "1b6463ad",
   "metadata": {},
   "outputs": [
    {
     "name": "stdout",
     "output_type": "stream",
     "text": [
      "[0, 1, 2, 3, 4, 5, 6, 7, 8, 9, 10, 11, 12, 13, 14, 15, 16, 17, 18]\n",
      "[0, 1, 2, 3, 4, 5, 6, 7, 8, 9, 10, 11, 12, 13, 14, 15, 16, 17, 18]\n",
      "[0, 1, 2, 3, 4, 5, 6, 7, 8, 9, 10, 11, 12, 13, 14, 15, 16, 17, 18]\n",
      "[0, 1, 2, 3, 4, 5, 6, 7, 8, 9, 10, 11, 12, 13, 14, 15, 16, 17, 18]\n",
      "[0, 1, 2, 3, 4, 5, 6, 7, 8, 9, 10, 11, 12, 13, 14, 15, 16, 17, 18]\n"
     ]
    }
   ],
   "source": [
    "for k in (1, 3, 7, 13, 18):\n",
    "    print(sorted([k*i%prime for i in range(prime)]))"
   ]
  },
  {
   "cell_type": "markdown",
   "id": "190dbefc",
   "metadata": {},
   "source": [
    "## Adding Multiplication/Exponentiation to our FieldElement Class"
   ]
  },
  {
   "cell_type": "code",
   "execution_count": 65,
   "id": "5a1afdd5",
   "metadata": {},
   "outputs": [],
   "source": [
    "class FieldElement:\n",
    "    def __init__(self, num, prime):\n",
    "        # Check that num is between 0 and prime -1 (inclusive)\n",
    "        if num >= prime or num < 0:\n",
    "            error = 'Num {} not in field range 0 to {}'.format(num, prime -1)\n",
    "            raise ValueError(error)\n",
    "        # Assign initialization values to the object    \n",
    "        self.num = num\n",
    "        self.prime = prime\n",
    "    \n",
    "    def __repr__(self):\n",
    "        return 'FieldElement_{}({})'.format(self.prime, self.num)\n",
    "    \n",
    "    def __eq__(self, other):\n",
    "        if other is None:\n",
    "            return False\n",
    "        # Both num and prime properties must be equal to establish equivalence\n",
    "        return self.num == other.num and self.prime == other.prime\n",
    "    \n",
    "    def __ne__(self, other):\n",
    "        if other is None:\n",
    "            return False\n",
    "        return not (self == other)\n",
    "    \n",
    "    def __add__(self, other):\n",
    "        # Ensure the elements are from the same field\n",
    "        if self.prime != other.prime:\n",
    "            raise TypeError('Cannot add two numbers in different fields')\n",
    "        # modulo addition\n",
    "        num = (self.num + other.num) % self.prime\n",
    "        # We return an instance of the class by passing the two initializing arguments num and self.prime\n",
    "        return self.__class__(num, self.prime)\n",
    "    \n",
    "    def __sub__(self, other):\n",
    "        # Ensure the elements are from the same field\n",
    "        if self.prime != other.prime:\n",
    "            raise TypeError('Cannot add two numbers in different fields')\n",
    "        # modulo subtraction\n",
    "        num = (self.num - other.num) % self.prime\n",
    "        # We return an instance of the class by passing the two initializing arguments num and self.prime\n",
    "        return self.__class__(num, self.prime)       \n",
    "    \n",
    "    def __mul__(self, other):\n",
    "        # Ensure the elements are from the same field\n",
    "        if self.prime != other.prime:\n",
    "            raise TypeError('Cannot add two numbers in different fields')\n",
    "        # modulo multiplication\n",
    "        num = (self.num * other.num) % self.prime\n",
    "        # We return an instance of the class by passing the two initializing arguments num and self.prime\n",
    "        return self.__class__(num, self.prime)   \n",
    "    \n",
    "    def __pow__(self, exponent):\n",
    "        # We do not want the exponent to be a FieldElement class object\n",
    "        num = (self.num ** exponent) % self.prime\n",
    "        return self.__class__(num, self.prime)"
   ]
  },
  {
   "cell_type": "code",
   "execution_count": 66,
   "id": "98b131bd",
   "metadata": {},
   "outputs": [],
   "source": [
    "a = FieldElement(3, 11)\n",
    "b = FieldElement(5, 11)"
   ]
  },
  {
   "cell_type": "code",
   "execution_count": 67,
   "id": "cb84f99d",
   "metadata": {},
   "outputs": [
    {
     "data": {
      "text/plain": [
       "FieldElement_11(1)"
      ]
     },
     "execution_count": 67,
     "metadata": {},
     "output_type": "execute_result"
    }
   ],
   "source": [
    "a.__pow__(10)"
   ]
  },
  {
   "cell_type": "code",
   "execution_count": 68,
   "id": "7cbce9d4",
   "metadata": {},
   "outputs": [
    {
     "data": {
      "text/plain": [
       "FieldElement_11(4)"
      ]
     },
     "execution_count": 68,
     "metadata": {},
     "output_type": "execute_result"
    }
   ],
   "source": [
    "a.__mul__(b)"
   ]
  },
  {
   "cell_type": "markdown",
   "id": "090f715e",
   "metadata": {},
   "source": [
    "For *p* = 7, 11, 17, 31, what is this set in $F_p$?\n",
    "\n",
    "{1$^{(p-1)}$, 2$^{(p-1)}$, 3$^{(p-1)}$ ... (*p*-1)$^{(p-1)}$}"
   ]
  },
  {
   "cell_type": "code",
   "execution_count": 70,
   "id": "697cf2ba",
   "metadata": {},
   "outputs": [
    {
     "name": "stdout",
     "output_type": "stream",
     "text": [
      "[1, 1, 1, 1, 1, 1]\n",
      "[1, 1, 1, 1, 1, 1, 1, 1, 1, 1]\n",
      "[1, 1, 1, 1, 1, 1, 1, 1, 1, 1, 1, 1, 1, 1, 1, 1]\n",
      "[1, 1, 1, 1, 1, 1, 1, 1, 1, 1, 1, 1, 1, 1, 1, 1, 1, 1, 1, 1, 1, 1, 1, 1, 1, 1, 1, 1, 1, 1]\n"
     ]
    }
   ],
   "source": [
    "primes = [7, 11, 17, 31]\n",
    "for prime in primes:\n",
    "    p_set = list()\n",
    "    for num in range(1, prime):\n",
    "        i = FieldElement(num, prime)\n",
    "        i_exp = i.__pow__(prime-1)\n",
    "        p_set.append(i_exp.num)\n",
    "    print(p_set)"
   ]
  },
  {
   "cell_type": "code",
   "execution_count": 71,
   "id": "6ac97708",
   "metadata": {},
   "outputs": [
    {
     "name": "stdout",
     "output_type": "stream",
     "text": [
      "[1, 1, 1, 1, 1, 1]\n",
      "[1, 1, 1, 1, 1, 1, 1, 1, 1, 1]\n",
      "[1, 1, 1, 1, 1, 1, 1, 1, 1, 1, 1, 1, 1, 1, 1, 1]\n",
      "[1, 1, 1, 1, 1, 1, 1, 1, 1, 1, 1, 1, 1, 1, 1, 1, 1, 1, 1, 1, 1, 1, 1, 1, 1, 1, 1, 1, 1, 1]\n"
     ]
    }
   ],
   "source": [
    "for prime in (7, 11, 17, 31):\n",
    "    print([pow(i, prime-1, prime) for i in range(1, prime)])"
   ]
  },
  {
   "cell_type": "code",
   "execution_count": null,
   "id": "06fae9e7",
   "metadata": {},
   "outputs": [],
   "source": []
  }
 ],
 "metadata": {
  "kernelspec": {
   "display_name": "Python 3",
   "language": "python",
   "name": "python3"
  },
  "language_info": {
   "codemirror_mode": {
    "name": "ipython",
    "version": 3
   },
   "file_extension": ".py",
   "mimetype": "text/x-python",
   "name": "python",
   "nbconvert_exporter": "python",
   "pygments_lexer": "ipython3",
   "version": "3.8.8"
  }
 },
 "nbformat": 4,
 "nbformat_minor": 5
}
