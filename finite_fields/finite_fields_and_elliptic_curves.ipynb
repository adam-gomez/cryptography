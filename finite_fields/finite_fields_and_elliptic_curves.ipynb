{
 "cells": [
  {
   "cell_type": "markdown",
   "id": "4cb74529",
   "metadata": {},
   "source": [
    "# Finite Field Definition\n",
    "\n",
    "Mathematically, a *finite field* is defined as a finite set of numbers and two operations + (addition) and *•* (multiplication) that satisfy the following:\n",
    "\n",
    "1. If *a* and *b* are in the set, *a + b* and *a • b* are in the set. We call this property *closed*.\n",
    "    - Consider a set containing {0,1,2}\n",
    "    - This set would not be *closed*, because 1 + 2 = 3 and 3 is not in the set\n",
    "    - {-1, 0, 1} is *closed* under multiplication (but not addition)\n",
    "    - We can alter the definition of multiplication or addition in another way to make these sets closed\n",
    "    \n",
    "    \n",
    "2. 0 exists and has the property *a + 0 = a*. We call this the *additive identity*.\n",
    "3. 1 exists and has the property *a • 1 = a*. We call this the *multiplicative identity*.\n",
    "    - These put some limits on how addition and multiplication can be defined\n",
    "    - These also require 0 and 1 to be in the set\n",
    "    \n",
    "    \n",
    "4. If *a* is in the set, *-a* is in the set, which is defined as the value that makes *a + (-a) = 0*. This is what we call the *additive inverse*.\n",
    "    - This allows us to define subtraction\n",
    "    \n",
    "    \n",
    "5. If *a* is in the set and is not 0, *a<sup>-1</sup>* is in the set, which is defined as the value that makes *a • a<sup>-1</sup> = 1*. This is what we call the *multiplicative inverse*.\n",
    "    - This allows us to define division\n",
    "    \n",
    "    \n",
    "Because the set is finite, we have a number *p*, which is how big the set it. This is the *order* of the set.\n",
    "\n",
    "Finite field set:\n",
    "$F_p$ = {0, 1, 2, ... p-1}\n",
    "\n",
    "Thus:\n",
    "\n",
    "$F_{11}$ = {0, 1, 2, 3, 4, 5, 6, 7, 8, 9, 10}\n",
    "\n",
    "$F_{17}$ = {0, 1, 2, 3, 4, 5, 6, 7, 8, 9, 10, 11, 12, 13, 14, 15, 16}\n",
    "\n",
    "$F_{983}$ = {0, 1, 2, ... 982}\n",
    "\n",
    "Notice that the fields represented above have a prime number order. Cryptographic finite fields must have a prime order. "
   ]
  },
  {
   "cell_type": "code",
   "execution_count": 1,
   "id": "9a8a0ad7",
   "metadata": {},
   "outputs": [],
   "source": [
    "from math import floor"
   ]
  },
  {
   "cell_type": "code",
   "execution_count": 2,
   "id": "a153487c",
   "metadata": {},
   "outputs": [],
   "source": [
    "class FieldElement:\n",
    "    def __init__(self, num, prime):\n",
    "        # Check that num is between 0 and prime -1 (inclusive)\n",
    "        if num >= prime or num < 0:\n",
    "            error = 'Num {} not in field range 0 to {}'.format(num, prime -1)\n",
    "            raise ValueError(error)\n",
    "        # Assign initialization values to the object    \n",
    "        self.num = num\n",
    "        self.prime = prime\n",
    "    \n",
    "    def __repr__(self):\n",
    "        return 'FieldElement_{}({})'.format(self.prime, self.num)\n",
    "    \n",
    "    def __eq__(self, other):\n",
    "        if other is None:\n",
    "            return False\n",
    "        # Both num and prime properties must be equal to establish equivalence\n",
    "        return self.num == other.num and self.prime == other.prime"
   ]
  },
  {
   "cell_type": "code",
   "execution_count": 3,
   "id": "3ed568b2",
   "metadata": {},
   "outputs": [],
   "source": [
    "a = FieldElement(7, 13)\n",
    "b = FieldElement(6, 13)"
   ]
  },
  {
   "cell_type": "code",
   "execution_count": 4,
   "id": "24d7791e",
   "metadata": {},
   "outputs": [
    {
     "name": "stdout",
     "output_type": "stream",
     "text": [
      "False\n"
     ]
    }
   ],
   "source": [
    "print(a == b)"
   ]
  },
  {
   "cell_type": "code",
   "execution_count": 5,
   "id": "2b7796e5",
   "metadata": {},
   "outputs": [
    {
     "name": "stdout",
     "output_type": "stream",
     "text": [
      "True\n"
     ]
    }
   ],
   "source": [
    "print(a == a)"
   ]
  },
  {
   "cell_type": "markdown",
   "id": "c01580d1",
   "metadata": {},
   "source": [
    "Let's add a method `__ne__` which checks if two FieldElement objects *not* equal to each other"
   ]
  },
  {
   "cell_type": "code",
   "execution_count": 6,
   "id": "131c7125",
   "metadata": {},
   "outputs": [],
   "source": [
    "class FieldElement:\n",
    "    def __init__(self, num, prime):\n",
    "        # Check that num is between 0 and prime -1 (inclusive)\n",
    "        if num >= prime or num < 0:\n",
    "            error = 'Num {} not in field range 0 to {}'.format(num, prime -1)\n",
    "            raise ValueError(error)\n",
    "        # Assign initialization values to the object    \n",
    "        self.num = num\n",
    "        self.prime = prime\n",
    "    \n",
    "    def __repr__(self):\n",
    "        return 'FieldElement_{}({})'.format(self.prime, self.num)\n",
    "    \n",
    "    def __eq__(self, other):\n",
    "        if other is None:\n",
    "            return False\n",
    "        # Both num and prime properties must be equal to establish equivalence\n",
    "        return self.num == other.num and self.prime == other.prime\n",
    "    \n",
    "    def __ne__(self, other):\n",
    "        if other is None:\n",
    "            return False\n",
    "        return not (self == other)"
   ]
  },
  {
   "cell_type": "code",
   "execution_count": 7,
   "id": "c61321cb",
   "metadata": {},
   "outputs": [
    {
     "data": {
      "text/plain": [
       "True"
      ]
     },
     "execution_count": 7,
     "metadata": {},
     "output_type": "execute_result"
    }
   ],
   "source": [
    "a.__ne__(b)"
   ]
  },
  {
   "cell_type": "markdown",
   "id": "bd23d1a9",
   "metadata": {},
   "source": [
    "## Modulo Arithmetic\n",
    "\n",
    "One way to make a finite field closed under addition, subtraction, multiplcation, and division is to use *modulo arithmetic*"
   ]
  },
  {
   "cell_type": "code",
   "execution_count": 8,
   "id": "ebc7cacd",
   "metadata": {},
   "outputs": [
    {
     "data": {
      "text/plain": [
       "60"
      ]
     },
     "execution_count": 8,
     "metadata": {},
     "output_type": "execute_result"
    }
   ],
   "source": [
    "1747 % 241"
   ]
  },
  {
   "cell_type": "markdown",
   "id": "18e5b8ab",
   "metadata": {},
   "source": [
    "Formally speaking, the modulo operation is the remainder after division of one number by another.\n",
    "\n",
    "**It's currently 3 o'clock. What hour will it be 47 hours from now?**"
   ]
  },
  {
   "cell_type": "code",
   "execution_count": 9,
   "id": "e7b60703",
   "metadata": {},
   "outputs": [
    {
     "data": {
      "text/plain": [
       "2"
      ]
     },
     "execution_count": 9,
     "metadata": {},
     "output_type": "execute_result"
    }
   ],
   "source": [
    "(3 + 47) % 12"
   ]
  },
  {
   "cell_type": "markdown",
   "id": "f1cb8bb2",
   "metadata": {},
   "source": [
    "Consider that we can break the question above into steps.\n",
    "\n",
    "It's currently 3 o'clock. What hour will it be 12 hours from now? How many hours will have passed?\n",
    "\n",
    "    A: 3 o'clock, 12 hours\n",
    "\n",
    "And 12 hours after that?\n",
    "\n",
    "    A: 3 o'clock, 24 hours\n",
    "\n",
    "And 12 hours after that?\n",
    "\n",
    "    A: 3 o'clock, 36 hours\n",
    "\n",
    "And 11 hours after that?\n",
    "\n",
    "    A: 2 o'clock, 47 hours\n",
    "    \n",
    "Thus, we can think of modulo arithmetic as a kind of \"wraparound\" or \"clock\" math.\n",
    "\n",
    "We can perform modulo on negative numners. For example:\n",
    "\n",
    "**It is currently 3 o'clock. What hour was it 16 hours ago?**"
   ]
  },
  {
   "cell_type": "code",
   "execution_count": 10,
   "id": "526cfc21",
   "metadata": {},
   "outputs": [
    {
     "data": {
      "text/plain": [
       "11"
      ]
     },
     "execution_count": 10,
     "metadata": {},
     "output_type": "execute_result"
    }
   ],
   "source": [
    "(3 - 16) % 12"
   ]
  },
  {
   "cell_type": "markdown",
   "id": "bcc5dd87",
   "metadata": {},
   "source": [
    "**It is currently 12 minutes past the hour. What minute wil it be 843 minutes from now?**"
   ]
  },
  {
   "cell_type": "code",
   "execution_count": 11,
   "id": "67a81bd5",
   "metadata": {},
   "outputs": [
    {
     "data": {
      "text/plain": [
       "15"
      ]
     },
     "execution_count": 11,
     "metadata": {},
     "output_type": "execute_result"
    }
   ],
   "source": [
    "(12 + 843) % 60"
   ]
  },
  {
   "cell_type": "markdown",
   "id": "1e2361ea",
   "metadata": {},
   "source": [
    "**It is currently 23 minutes past the hour. What minute will it be 97 minutes from now?**"
   ]
  },
  {
   "cell_type": "code",
   "execution_count": 12,
   "id": "5f12d3b7",
   "metadata": {},
   "outputs": [
    {
     "data": {
      "text/plain": [
       "0"
      ]
     },
     "execution_count": 12,
     "metadata": {},
     "output_type": "execute_result"
    }
   ],
   "source": [
    "(23 + 97) % 60"
   ]
  },
  {
   "cell_type": "markdown",
   "id": "7ff0c407",
   "metadata": {},
   "source": [
    "The result of the moduleo operation for mnutes is always between 0 and 59. This is a useful property, as even very large numbers can be brought down to a relatively small range."
   ]
  },
  {
   "cell_type": "code",
   "execution_count": 13,
   "id": "9f3b6751",
   "metadata": {},
   "outputs": [
    {
     "data": {
      "text/plain": [
       "54"
      ]
     },
     "execution_count": 13,
     "metadata": {},
     "output_type": "execute_result"
    }
   ],
   "source": [
    "1441829712894 % 60"
   ]
  },
  {
   "cell_type": "code",
   "execution_count": 14,
   "id": "95424a86",
   "metadata": {},
   "outputs": [
    {
     "data": {
      "text/plain": [
       "1"
      ]
     },
     "execution_count": 14,
     "metadata": {},
     "output_type": "execute_result"
    }
   ],
   "source": [
    "7 % 3"
   ]
  },
  {
   "cell_type": "markdown",
   "id": "013fec30",
   "metadata": {},
   "source": [
    "Simple enough. But things get a little tricky when you throw negative numbers into the mix:"
   ]
  },
  {
   "cell_type": "code",
   "execution_count": 15,
   "id": "80b59e07",
   "metadata": {},
   "outputs": [
    {
     "data": {
      "text/plain": [
       "12"
      ]
     },
     "execution_count": 15,
     "metadata": {},
     "output_type": "execute_result"
    }
   ],
   "source": [
    "-27 % 13"
   ]
  },
  {
   "cell_type": "code",
   "execution_count": 16,
   "id": "46aca5ce",
   "metadata": {},
   "outputs": [],
   "source": [
    "def modulo_explained(a, b):\n",
    "    print('Identities:')\n",
    "    print(f'a: {a}')\n",
    "    print(f'b: {b}', '\\n')\n",
    "    print('Normal Division:')\n",
    "    print(f'a / b: {a/b}', '\\n')\n",
    "    print('Modulo = a - b * floor(a/b):')\n",
    "    print(f'floor(a/b): {floor(a/b)}')\n",
    "    print(f'b * floor(a/b): {b * (floor(a/b))}')\n",
    "    print(f'a - b * floor(a/b): {a - b * floor (a / b)}', '\\n')\n",
    "    print(f'a % b = {a - b * floor (a / b)}')"
   ]
  },
  {
   "cell_type": "code",
   "execution_count": 17,
   "id": "195cf6fa",
   "metadata": {},
   "outputs": [
    {
     "name": "stdout",
     "output_type": "stream",
     "text": [
      "Identities:\n",
      "a: -27\n",
      "b: 13 \n",
      "\n",
      "Normal Division:\n",
      "a / b: -2.076923076923077 \n",
      "\n",
      "Modulo = a - b * floor(a/b):\n",
      "floor(a/b): -3\n",
      "b * floor(a/b): -39\n",
      "a - b * floor(a/b): 12 \n",
      "\n",
      "a % b = 12\n"
     ]
    }
   ],
   "source": [
    "modulo_explained(-27, 13)"
   ]
  },
  {
   "cell_type": "code",
   "execution_count": null,
   "id": "4a83547e",
   "metadata": {},
   "outputs": [],
   "source": []
  }
 ],
 "metadata": {
  "kernelspec": {
   "display_name": "Python 3",
   "language": "python",
   "name": "python3"
  },
  "language_info": {
   "codemirror_mode": {
    "name": "ipython",
    "version": 3
   },
   "file_extension": ".py",
   "mimetype": "text/x-python",
   "name": "python",
   "nbconvert_exporter": "python",
   "pygments_lexer": "ipython3",
   "version": "3.8.8"
  }
 },
 "nbformat": 4,
 "nbformat_minor": 5
}
